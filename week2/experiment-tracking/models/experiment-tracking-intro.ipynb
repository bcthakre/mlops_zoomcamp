{
 "cells": [
  {
   "cell_type": "code",
   "execution_count": 1,
   "id": "9436d970",
   "metadata": {},
   "outputs": [],
   "source": [
    "import pandas as pd\n",
    "import os\n",
    "from sklearn.feature_extraction import DictVectorizer\n",
    "from sklearn.linear_model import LinearRegression, Lasso, Ridge\n",
    "import seaborn as sns\n",
    "import matplotlib.pylab as plt\n",
    "from sklearn.metrics import mean_squared_error\n",
    "import warnings\n",
    "import pickle"
   ]
  },
  {
   "cell_type": "code",
   "execution_count": 8,
   "id": "6fe9e71f",
   "metadata": {},
   "outputs": [
    {
     "name": "stderr",
     "output_type": "stream",
     "text": [
      "2023/03/12 21:10:24 INFO mlflow.store.db.utils: Creating initial MLflow database tables...\n",
      "2023/03/12 21:10:24 INFO mlflow.store.db.utils: Updating database tables\n",
      "INFO  [alembic.runtime.migration] Context impl SQLiteImpl.\n",
      "INFO  [alembic.runtime.migration] Will assume non-transactional DDL.\n",
      "INFO  [alembic.runtime.migration] Context impl SQLiteImpl.\n",
      "INFO  [alembic.runtime.migration] Will assume non-transactional DDL.\n",
      "2023/03/12 21:10:24 INFO mlflow.tracking.fluent: Experiment with name 'nyc-taxi-0-exp' does not exist. Creating a new experiment.\n"
     ]
    },
    {
     "data": {
      "text/plain": [
       "<Experiment: artifact_location='/home/bcthakredata/mlops_zoomcamp/week2/experiment-tracking/models/mlruns/2', creation_time=1678655424788, experiment_id='2', last_update_time=1678655424788, lifecycle_stage='active', name='nyc-taxi-0-exp', tags={}>"
      ]
     },
     "execution_count": 8,
     "metadata": {},
     "output_type": "execute_result"
    }
   ],
   "source": [
    "import mlflow\n",
    "\n",
    "mlflow.set_tracking_uri('sqlite:///mlflow.db')\n",
    "mlflow.set_experiment('nyc-taxi-0-exp')"
   ]
  },
  {
   "cell_type": "code",
   "execution_count": 9,
   "id": "14edef05",
   "metadata": {},
   "outputs": [],
   "source": [
    "def read_parquet_file(filename):\n",
    "    \"\"\"\n",
    "    To read the data frame from parquet file\n",
    "    \n",
    "    \"\"\"\n",
    "    \n",
    "    df = pd.read_parquet(filename)\n",
    "    \n",
    "    df['duration'] = df['lpep_dropoff_datetime'] - df['lpep_pickup_datetime']\n",
    "    df['duration'] = df.duration.apply(lambda td : td.total_seconds()/60)\n",
    "    \n",
    "    df = df[((df.duration >= 1) & (df.duration <=60))]\n",
    "    \n",
    "    categorical = ['PULocationID','DOLocationID']\n",
    "        \n",
    "    df[categorical] = df[categorical].astype(str)\n",
    "    \n",
    "    return df"
   ]
  },
  {
   "cell_type": "code",
   "execution_count": 10,
   "id": "78324cf2",
   "metadata": {},
   "outputs": [],
   "source": [
    "df_train = read_parquet_file('/home/bcthakredata/mlops_zoomcamp/week1/data/green_tripdata_2022-01.parquet')\n",
    "df_val = read_parquet_file('/home/bcthakredata/mlops_zoomcamp/week1/data/green_tripdata_2022-02.parquet')"
   ]
  },
  {
   "cell_type": "code",
   "execution_count": 11,
   "id": "53f5a4a0",
   "metadata": {},
   "outputs": [],
   "source": [
    "df_train['PU_DO_PAIR'] = df_train['PULocationID'] + \"_\" + df_train['DOLocationID']\n",
    "df_val['PU_DO_PAIR'] = df_val['PULocationID'] + \"_\" + df_val['DOLocationID']"
   ]
  },
  {
   "cell_type": "code",
   "execution_count": 12,
   "id": "42884158",
   "metadata": {},
   "outputs": [],
   "source": [
    "categorical = ['PULocationID','DOLocationID','PU_DO_PAIR']\n",
    "numerical = ['trip_distance']\n",
    "\n",
    "dv = DictVectorizer()\n",
    "\n",
    "train_dicts = df_train[categorical + numerical].to_dict(orient='records')\n",
    "X_train = dv.fit_transform(train_dicts)\n",
    "\n",
    "val_dicts = df_val[categorical + numerical].to_dict(orient='records')\n",
    "X_val = dv.transform(val_dicts)"
   ]
  },
  {
   "cell_type": "code",
   "execution_count": 13,
   "id": "cc0da74f",
   "metadata": {},
   "outputs": [],
   "source": [
    "target = 'duration'\n",
    "y_train = df_train[target].values\n",
    "y_val = df_val[target].values"
   ]
  },
  {
   "cell_type": "code",
   "execution_count": 20,
   "id": "146e576a",
   "metadata": {},
   "outputs": [],
   "source": [
    "with mlflow.start_run():\n",
    "\n",
    "    mlflow.set_tag(\"developer\", \"bt\")\n",
    "    mlflow.set_tag(\"model_name\",\"Lasso\")\n",
    "\n",
    "    mlflow.log_param(\"train-data-path\", \"./data/green_tripdata_2021-01.csv\")\n",
    "    mlflow.log_param(\"valid-data-path\", \"./data/green_tripdata_2021-02.csv\")\n",
    "\n",
    "    alpha = 100\n",
    "    mlflow.log_param(\"alpha\", alpha)\n",
    "    lr = Lasso(alpha)\n",
    "    lr.fit(X_train, y_train)\n",
    "\n",
    "    y_pred = lr.predict(X_val)\n",
    "    rmse = mean_squared_error(y_val, y_pred, squared=False)\n",
    "    mlflow.log_metric(\"rmse\", rmse)"
   ]
  },
  {
   "cell_type": "code",
   "execution_count": 23,
   "id": "38224fc5",
   "metadata": {},
   "outputs": [],
   "source": [
    "with mlflow.start_run(description='Ridge Regression'):\n",
    "\n",
    "    mlflow.set_tag('developer','bt')\n",
    "    mlflow.set_tag('model_name','Ridge')\n",
    "\n",
    "    mlflow.log_param('train-data-path',\"./data/green_tripdata_2021-01.csv\")\n",
    "    mlflow.log_param('valid-data-path',\"./data/green_tripdata_2021-02.csv\")\n",
    "\n",
    "    alpha = 0.01\n",
    "\n",
    "    mlflow.log_param('alpha',alpha)\n",
    "    rr = Ridge(alpha=alpha)\n",
    "    rr.fit(X_train,y_train)\n",
    "    y_pred = rr.predict(X_val)\n",
    "    rmse = mean_squared_error(y_val,y_pred,squared=False)\n",
    "    mlflow.log_metric('rmse',rmse)\n",
    "\n"
   ]
  },
  {
   "cell_type": "markdown",
   "id": "a8c16b1a",
   "metadata": {},
   "source": []
  }
 ],
 "metadata": {
  "kernelspec": {
   "display_name": "Python 3 (ipykernel)",
   "language": "python",
   "name": "python3"
  },
  "language_info": {
   "codemirror_mode": {
    "name": "ipython",
    "version": 3
   },
   "file_extension": ".py",
   "mimetype": "text/x-python",
   "name": "python",
   "nbconvert_exporter": "python",
   "pygments_lexer": "ipython3",
   "version": "3.9.16"
  }
 },
 "nbformat": 4,
 "nbformat_minor": 5
}
