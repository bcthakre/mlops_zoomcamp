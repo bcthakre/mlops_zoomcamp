{
 "cells": [
  {
   "cell_type": "code",
   "execution_count": 1,
   "id": "9436d970",
   "metadata": {},
   "outputs": [],
   "source": [
    "import pandas as pd\n",
    "import os\n",
    "from sklearn.feature_extraction import DictVectorizer\n",
    "from sklearn.linear_model import LinearRegression, Lasso, Ridge\n",
    "import seaborn as sns\n",
    "import matplotlib.pylab as plt\n",
    "from sklearn.metrics import mean_squared_error\n",
    "import warnings\n",
    "import pickle"
   ]
  },
  {
   "cell_type": "code",
   "execution_count": 8,
   "id": "6fe9e71f",
   "metadata": {},
   "outputs": [
    {
     "name": "stderr",
     "output_type": "stream",
     "text": [
      "2023/03/12 21:10:24 INFO mlflow.store.db.utils: Creating initial MLflow database tables...\n",
      "2023/03/12 21:10:24 INFO mlflow.store.db.utils: Updating database tables\n",
      "INFO  [alembic.runtime.migration] Context impl SQLiteImpl.\n",
      "INFO  [alembic.runtime.migration] Will assume non-transactional DDL.\n",
      "INFO  [alembic.runtime.migration] Context impl SQLiteImpl.\n",
      "INFO  [alembic.runtime.migration] Will assume non-transactional DDL.\n",
      "2023/03/12 21:10:24 INFO mlflow.tracking.fluent: Experiment with name 'nyc-taxi-0-exp' does not exist. Creating a new experiment.\n"
     ]
    },
    {
     "data": {
      "text/plain": [
       "<Experiment: artifact_location='/home/bcthakredata/mlops_zoomcamp/week2/experiment-tracking/models/mlruns/2', creation_time=1678655424788, experiment_id='2', last_update_time=1678655424788, lifecycle_stage='active', name='nyc-taxi-0-exp', tags={}>"
      ]
     },
     "execution_count": 8,
     "metadata": {},
     "output_type": "execute_result"
    }
   ],
   "source": [
    "import mlflow\n",
    "\n",
    "mlflow.set_tracking_uri('sqlite:///mlflow.db')\n",
    "mlflow.set_experiment('nyc-taxi-0-exp')"
   ]
  },
  {
   "cell_type": "code",
   "execution_count": 9,
   "id": "14edef05",
   "metadata": {},
   "outputs": [],
   "source": [
    "def read_parquet_file(filename):\n",
    "    \"\"\"\n",
    "    To read the data frame from parquet file\n",
    "    \n",
    "    \"\"\"\n",
    "    \n",
    "    df = pd.read_parquet(filename)\n",
    "    \n",
    "    df['duration'] = df['lpep_dropoff_datetime'] - df['lpep_pickup_datetime']\n",
    "    df['duration'] = df.duration.apply(lambda td : td.total_seconds()/60)\n",
    "    \n",
    "    df = df[((df.duration >= 1) & (df.duration <=60))]\n",
    "    \n",
    "    categorical = ['PULocationID','DOLocationID']\n",
    "        \n",
    "    df[categorical] = df[categorical].astype(str)\n",
    "    \n",
    "    return df"
   ]
  },
  {
   "cell_type": "code",
   "execution_count": 10,
   "id": "78324cf2",
   "metadata": {},
   "outputs": [],
   "source": [
    "df_train = read_parquet_file('/home/bcthakredata/mlops_zoomcamp/week1/data/green_tripdata_2022-01.parquet')\n",
    "df_val = read_parquet_file('/home/bcthakredata/mlops_zoomcamp/week1/data/green_tripdata_2022-02.parquet')"
   ]
  },
  {
   "cell_type": "code",
   "execution_count": 11,
   "id": "53f5a4a0",
   "metadata": {},
   "outputs": [],
   "source": [
    "df_train['PU_DO_PAIR'] = df_train['PULocationID'] + \"_\" + df_train['DOLocationID']\n",
    "df_val['PU_DO_PAIR'] = df_val['PULocationID'] + \"_\" + df_val['DOLocationID']"
   ]
  },
  {
   "cell_type": "code",
   "execution_count": 12,
   "id": "42884158",
   "metadata": {},
   "outputs": [],
   "source": [
    "categorical = ['PULocationID','DOLocationID','PU_DO_PAIR']\n",
    "numerical = ['trip_distance']\n",
    "\n",
    "dv = DictVectorizer()\n",
    "\n",
    "train_dicts = df_train[categorical + numerical].to_dict(orient='records')\n",
    "X_train = dv.fit_transform(train_dicts)\n",
    "\n",
    "val_dicts = df_val[categorical + numerical].to_dict(orient='records')\n",
    "X_val = dv.transform(val_dicts)"
   ]
  },
  {
   "cell_type": "code",
   "execution_count": 13,
   "id": "cc0da74f",
   "metadata": {},
   "outputs": [],
   "source": [
    "target = 'duration'\n",
    "y_train = df_train[target].values\n",
    "y_val = df_val[target].values"
   ]
  },
  {
   "cell_type": "code",
   "execution_count": 14,
   "id": "146e576a",
   "metadata": {},
   "outputs": [
    {
     "ename": "FileNotFoundError",
     "evalue": "[Errno 2] No such file or directory: 'models/lin_reg.bin'",
     "output_type": "error",
     "traceback": [
      "\u001b[0;31m---------------------------------------------------------------------------\u001b[0m",
      "\u001b[0;31mFileNotFoundError\u001b[0m                         Traceback (most recent call last)",
      "Cell \u001b[0;32mIn[14], line 17\u001b[0m\n\u001b[1;32m     14\u001b[0m rmse \u001b[39m=\u001b[39m mean_squared_error(y_val, y_pred, squared\u001b[39m=\u001b[39m\u001b[39mFalse\u001b[39;00m)\n\u001b[1;32m     15\u001b[0m mlflow\u001b[39m.\u001b[39mlog_metric(\u001b[39m\"\u001b[39m\u001b[39mrmse\u001b[39m\u001b[39m\"\u001b[39m, rmse)\n\u001b[0;32m---> 17\u001b[0m mlflow\u001b[39m.\u001b[39;49mlog_artifact(local_path\u001b[39m=\u001b[39;49m\u001b[39m\"\u001b[39;49m\u001b[39mmodels/lin_reg.bin\u001b[39;49m\u001b[39m\"\u001b[39;49m, artifact_path\u001b[39m=\u001b[39;49m\u001b[39m\"\u001b[39;49m\u001b[39mmodels_pickle\u001b[39;49m\u001b[39m\"\u001b[39;49m)\n",
      "File \u001b[0;32m~/anaconda3/envs/exp-tracking-env/lib/python3.9/site-packages/mlflow/tracking/fluent.py:783\u001b[0m, in \u001b[0;36mlog_artifact\u001b[0;34m(local_path, artifact_path)\u001b[0m\n\u001b[1;32m    760\u001b[0m \u001b[39m\u001b[39m\u001b[39m\"\"\"\u001b[39;00m\n\u001b[1;32m    761\u001b[0m \u001b[39mLog a local file or directory as an artifact of the currently active run. If no run is\u001b[39;00m\n\u001b[1;32m    762\u001b[0m \u001b[39mactive, this method will create a new active run.\u001b[39;00m\n\u001b[0;32m   (...)\u001b[0m\n\u001b[1;32m    780\u001b[0m \u001b[39m        mlflow.log_artifact(\"features.txt\")\u001b[39;00m\n\u001b[1;32m    781\u001b[0m \u001b[39m\"\"\"\u001b[39;00m\n\u001b[1;32m    782\u001b[0m run_id \u001b[39m=\u001b[39m _get_or_start_run()\u001b[39m.\u001b[39minfo\u001b[39m.\u001b[39mrun_id\n\u001b[0;32m--> 783\u001b[0m MlflowClient()\u001b[39m.\u001b[39;49mlog_artifact(run_id, local_path, artifact_path)\n",
      "File \u001b[0;32m~/anaconda3/envs/exp-tracking-env/lib/python3.9/site-packages/mlflow/tracking/client.py:1023\u001b[0m, in \u001b[0;36mMlflowClient.log_artifact\u001b[0;34m(self, run_id, local_path, artifact_path)\u001b[0m\n\u001b[1;32m    988\u001b[0m \u001b[39mdef\u001b[39;00m \u001b[39mlog_artifact\u001b[39m(\u001b[39mself\u001b[39m, run_id, local_path, artifact_path\u001b[39m=\u001b[39m\u001b[39mNone\u001b[39;00m) \u001b[39m-\u001b[39m\u001b[39m>\u001b[39m \u001b[39mNone\u001b[39;00m:\n\u001b[1;32m    989\u001b[0m \u001b[39m    \u001b[39m\u001b[39m\"\"\"\u001b[39;00m\n\u001b[1;32m    990\u001b[0m \u001b[39m    Write a local file or directory to the remote ``artifact_uri``.\u001b[39;00m\n\u001b[1;32m    991\u001b[0m \n\u001b[0;32m   (...)\u001b[0m\n\u001b[1;32m   1021\u001b[0m \u001b[39m        is_dir: False\u001b[39;00m\n\u001b[1;32m   1022\u001b[0m \u001b[39m    \"\"\"\u001b[39;00m\n\u001b[0;32m-> 1023\u001b[0m     \u001b[39mself\u001b[39;49m\u001b[39m.\u001b[39;49m_tracking_client\u001b[39m.\u001b[39;49mlog_artifact(run_id, local_path, artifact_path)\n",
      "File \u001b[0;32m~/anaconda3/envs/exp-tracking-env/lib/python3.9/site-packages/mlflow/tracking/_tracking_service/client.py:439\u001b[0m, in \u001b[0;36mTrackingServiceClient.log_artifact\u001b[0;34m(self, run_id, local_path, artifact_path)\u001b[0m\n\u001b[1;32m    437\u001b[0m     artifact_repo\u001b[39m.\u001b[39mlog_artifacts(local_path, path_name)\n\u001b[1;32m    438\u001b[0m \u001b[39melse\u001b[39;00m:\n\u001b[0;32m--> 439\u001b[0m     artifact_repo\u001b[39m.\u001b[39;49mlog_artifact(local_path, artifact_path)\n",
      "File \u001b[0;32m~/anaconda3/envs/exp-tracking-env/lib/python3.9/site-packages/mlflow/store/artifact/local_artifact_repo.py:38\u001b[0m, in \u001b[0;36mLocalArtifactRepository.log_artifact\u001b[0;34m(self, local_file, artifact_path)\u001b[0m\n\u001b[1;32m     36\u001b[0m \u001b[39mif\u001b[39;00m \u001b[39mnot\u001b[39;00m os\u001b[39m.\u001b[39mpath\u001b[39m.\u001b[39mexists(artifact_dir):\n\u001b[1;32m     37\u001b[0m     mkdir(artifact_dir)\n\u001b[0;32m---> 38\u001b[0m shutil\u001b[39m.\u001b[39;49mcopyfile(local_file, os\u001b[39m.\u001b[39;49mpath\u001b[39m.\u001b[39;49mjoin(artifact_dir, os\u001b[39m.\u001b[39;49mpath\u001b[39m.\u001b[39;49mbasename(local_file)))\n",
      "File \u001b[0;32m~/anaconda3/envs/exp-tracking-env/lib/python3.9/shutil.py:264\u001b[0m, in \u001b[0;36mcopyfile\u001b[0;34m(src, dst, follow_symlinks)\u001b[0m\n\u001b[1;32m    262\u001b[0m     os\u001b[39m.\u001b[39msymlink(os\u001b[39m.\u001b[39mreadlink(src), dst)\n\u001b[1;32m    263\u001b[0m \u001b[39melse\u001b[39;00m:\n\u001b[0;32m--> 264\u001b[0m     \u001b[39mwith\u001b[39;00m \u001b[39mopen\u001b[39;49m(src, \u001b[39m'\u001b[39;49m\u001b[39mrb\u001b[39;49m\u001b[39m'\u001b[39;49m) \u001b[39mas\u001b[39;00m fsrc:\n\u001b[1;32m    265\u001b[0m         \u001b[39mtry\u001b[39;00m:\n\u001b[1;32m    266\u001b[0m             \u001b[39mwith\u001b[39;00m \u001b[39mopen\u001b[39m(dst, \u001b[39m'\u001b[39m\u001b[39mwb\u001b[39m\u001b[39m'\u001b[39m) \u001b[39mas\u001b[39;00m fdst:\n\u001b[1;32m    267\u001b[0m                 \u001b[39m# macOS\u001b[39;00m\n",
      "\u001b[0;31mFileNotFoundError\u001b[0m: [Errno 2] No such file or directory: 'models/lin_reg.bin'"
     ]
    }
   ],
   "source": [
    "with mlflow.start_run():\n",
    "\n",
    "    mlflow.set_tag(\"developer\", \"bt\")\n",
    "\n",
    "    mlflow.log_param(\"train-data-path\", \"./data/green_tripdata_2021-01.csv\")\n",
    "    mlflow.log_param(\"valid-data-path\", \"./data/green_tripdata_2021-02.csv\")\n",
    "\n",
    "    alpha = 0.1\n",
    "    mlflow.log_param(\"alpha\", alpha)\n",
    "    lr = Lasso(alpha)\n",
    "    lr.fit(X_train, y_train)\n",
    "\n",
    "    y_pred = lr.predict(X_val)\n",
    "    rmse = mean_squared_error(y_val, y_pred, squared=False)\n",
    "    mlflow.log_metric(\"rmse\", rmse)"
   ]
  },
  {
   "cell_type": "code",
   "execution_count": null,
   "id": "38224fc5",
   "metadata": {},
   "outputs": [],
   "source": []
  }
 ],
 "metadata": {
  "kernelspec": {
   "display_name": "Python 3 (ipykernel)",
   "language": "python",
   "name": "python3"
  },
  "language_info": {
   "codemirror_mode": {
    "name": "ipython",
    "version": 3
   },
   "file_extension": ".py",
   "mimetype": "text/x-python",
   "name": "python",
   "nbconvert_exporter": "python",
   "pygments_lexer": "ipython3",
   "version": "3.9.16"
  }
 },
 "nbformat": 4,
 "nbformat_minor": 5
}
