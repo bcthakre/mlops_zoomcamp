{
 "cells": [
  {
   "cell_type": "code",
   "execution_count": 29,
   "id": "1fdb268e",
   "metadata": {},
   "outputs": [],
   "source": [
    "import pandas as pd\n",
    "import os\n",
    "import sklearn as sns\n"
   ]
  },
  {
   "cell_type": "code",
   "execution_count": 30,
   "id": "cd727624",
   "metadata": {},
   "outputs": [
    {
     "data": {
      "text/plain": [
       "'/home/bcthakredata/mlops_zoomcamp/week1/data'"
      ]
     },
     "execution_count": 30,
     "metadata": {},
     "output_type": "execute_result"
    }
   ],
   "source": [
    "os.getcwd()"
   ]
  },
  {
   "cell_type": "code",
   "execution_count": 31,
   "id": "bdd17f45",
   "metadata": {},
   "outputs": [],
   "source": [
    "os.chdir('/home/bcthakredata/mlops_zoomcamp/week1/data/')"
   ]
  },
  {
   "cell_type": "code",
   "execution_count": 32,
   "id": "34450d44",
   "metadata": {},
   "outputs": [],
   "source": [
    "df = pd.read_parquet('green_tripdata_2022-01.parquet')"
   ]
  },
  {
   "cell_type": "code",
   "execution_count": 33,
   "id": "649592d6",
   "metadata": {},
   "outputs": [
    {
     "data": {
      "text/plain": [
       "Index(['VendorID', 'lpep_pickup_datetime', 'lpep_dropoff_datetime',\n",
       "       'store_and_fwd_flag', 'RatecodeID', 'PULocationID', 'DOLocationID',\n",
       "       'passenger_count', 'trip_distance', 'fare_amount', 'extra', 'mta_tax',\n",
       "       'tip_amount', 'tolls_amount', 'ehail_fee', 'improvement_surcharge',\n",
       "       'total_amount', 'payment_type', 'trip_type', 'congestion_surcharge'],\n",
       "      dtype='object')"
      ]
     },
     "execution_count": 33,
     "metadata": {},
     "output_type": "execute_result"
    }
   ],
   "source": [
    "df.columns"
   ]
  },
  {
   "cell_type": "code",
   "execution_count": 34,
   "id": "390e034d",
   "metadata": {},
   "outputs": [],
   "source": [
    "df['duration'] = df['lpep_dropoff_datetime'] - df['lpep_pickup_datetime']"
   ]
  },
  {
   "cell_type": "code",
   "execution_count": 35,
   "id": "3ddbc584",
   "metadata": {},
   "outputs": [],
   "source": [
    "df['duration'] = df.duration.apply(lambda td : td.total_seconds()/60)"
   ]
  },
  {
   "cell_type": "code",
   "execution_count": 38,
   "id": "c785998b",
   "metadata": {},
   "outputs": [
    {
     "data": {
      "text/plain": [
       "count    62495.000000\n",
       "mean        19.019387\n",
       "std         78.215732\n",
       "min          0.000000\n",
       "50%         11.583333\n",
       "75%         18.200000\n",
       "95%         35.438333\n",
       "98%         49.722667\n",
       "99%         68.453000\n",
       "max       1439.466667\n",
       "Name: duration, dtype: float64"
      ]
     },
     "execution_count": 38,
     "metadata": {},
     "output_type": "execute_result"
    }
   ],
   "source": [
    "df.duration.describe(percentiles=[0.75,0.95,0.98,0.99])"
   ]
  },
  {
   "cell_type": "code",
   "execution_count": 42,
   "id": "78ecbd8e",
   "metadata": {},
   "outputs": [],
   "source": [
    "df = df[((df.duration >= 1) & (df.duration <=60))]"
   ]
  },
  {
   "cell_type": "code",
   "execution_count": 45,
   "id": "d61a5d59",
   "metadata": {},
   "outputs": [],
   "source": [
    "categorical = ['PULocationID','DOLocationID']\n",
    "numerical = ['trip_distance']"
   ]
  },
  {
   "cell_type": "code",
   "execution_count": 49,
   "id": "309cedac",
   "metadata": {},
   "outputs": [],
   "source": [
    "df[categorical] = df[categorical].astype(str)"
   ]
  },
  {
   "cell_type": "code",
   "execution_count": null,
   "id": "7c1c4a66",
   "metadata": {},
   "outputs": [],
   "source": []
  }
 ],
 "metadata": {
  "kernelspec": {
   "display_name": "Python 3 (ipykernel)",
   "language": "python",
   "name": "python3"
  },
  "language_info": {
   "codemirror_mode": {
    "name": "ipython",
    "version": 3
   },
   "file_extension": ".py",
   "mimetype": "text/x-python",
   "name": "python",
   "nbconvert_exporter": "python",
   "pygments_lexer": "ipython3",
   "version": "3.9.13"
  }
 },
 "nbformat": 4,
 "nbformat_minor": 5
}
