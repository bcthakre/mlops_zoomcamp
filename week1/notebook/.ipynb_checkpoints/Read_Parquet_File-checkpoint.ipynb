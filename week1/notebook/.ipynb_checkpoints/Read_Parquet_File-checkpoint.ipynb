{
 "cells": [
  {
   "cell_type": "code",
   "execution_count": 31,
   "id": "490d7fac",
   "metadata": {},
   "outputs": [],
   "source": [
    "import pandas as pd\n",
    "import os\n",
    "from sklearn.feature_extraction import DictVectorizer\n",
    "from sklearn.linear_model import LinearRegression, Lasso, Ridge\n",
    "import seaborn as sns\n",
    "import matplotlib.pylab as plt\n",
    "from sklearn.metrics import mean_squared_error\n",
    "import warnings\n",
    "import pickle"
   ]
  },
  {
   "cell_type": "code",
   "execution_count": 2,
   "id": "af348689",
   "metadata": {},
   "outputs": [],
   "source": [
    "warnings.filterwarnings('ignore')"
   ]
  },
  {
   "cell_type": "code",
   "execution_count": 3,
   "id": "be43129b",
   "metadata": {},
   "outputs": [],
   "source": [
    "os.chdir('/home/bcthakredata/mlops_zoomcamp/week1/data/')"
   ]
  },
  {
   "cell_type": "code",
   "execution_count": 4,
   "id": "b8d4e188",
   "metadata": {},
   "outputs": [],
   "source": [
    "def read_parquet_file(filename):\n",
    "    \"\"\"\n",
    "    To read the data frame from parquet file\n",
    "    \n",
    "    \"\"\"\n",
    "    \n",
    "    df = pd.read_parquet(filename)\n",
    "    \n",
    "    df['duration'] = df['lpep_dropoff_datetime'] - df['lpep_pickup_datetime']\n",
    "    df['duration'] = df.duration.apply(lambda td : td.total_seconds()/60)\n",
    "    \n",
    "    df = df[((df.duration >= 1) & (df.duration <=60))]\n",
    "    \n",
    "    categorical = ['PULocationID','DOLocationID']\n",
    "        \n",
    "    df[categorical] = df[categorical].astype(str)\n",
    "    \n",
    "    return df"
   ]
  },
  {
   "cell_type": "code",
   "execution_count": 9,
   "id": "c11dc354",
   "metadata": {},
   "outputs": [],
   "source": [
    "df_train = read_parquet_file('green_tripdata_2022-01.parquet')\n",
    "df_val = read_parquet_file('green_tripdata_2022-02.parquet')"
   ]
  },
  {
   "cell_type": "code",
   "execution_count": 22,
   "id": "3083e2e5",
   "metadata": {},
   "outputs": [],
   "source": [
    "df_train['PU_DO_PAIR'] = df_train['PULocationID'] + \"_\" + df_train['DOLocationID']\n",
    "df_val['PU_DO_PAIR'] = df_val['PULocationID'] + \"_\" + df_val['DOLocationID']"
   ]
  },
  {
   "cell_type": "code",
   "execution_count": 23,
   "id": "2bce87f8",
   "metadata": {},
   "outputs": [],
   "source": [
    "categorical = ['PULocationID','DOLocationID','PU_DO_PAIR']\n",
    "numerical = ['trip_distance']\n",
    "\n",
    "dv = DictVectorizer()\n",
    "\n",
    "train_dicts = df_train[categorical + numerical].to_dict(orient='records')\n",
    "X_train = dv.fit_transform(train_dicts)\n",
    "\n",
    "val_dicts = df_val[categorical + numerical].to_dict(orient='records')\n",
    "X_val = dv.transform(val_dicts)"
   ]
  },
  {
   "cell_type": "code",
   "execution_count": 24,
   "id": "040ff06f",
   "metadata": {},
   "outputs": [],
   "source": [
    "target = 'duration'\n",
    "y_train = df_train[target].values\n",
    "y_val = df_val[target].values"
   ]
  },
  {
   "cell_type": "code",
   "execution_count": 25,
   "id": "df3b00bd",
   "metadata": {},
   "outputs": [
    {
     "data": {
      "text/plain": [
       "6.915812004551745"
      ]
     },
     "execution_count": 25,
     "metadata": {},
     "output_type": "execute_result"
    }
   ],
   "source": [
    "lr = LinearRegression()\n",
    "lr.fit(X_train,y_train)\n",
    "\n",
    "y_pred = lr.predict(X_val)\n",
    "\n",
    "mean_squared_error(y_val, y_pred, squared=False)"
   ]
  },
  {
   "cell_type": "code",
   "execution_count": 26,
   "id": "2e55d6bf",
   "metadata": {},
   "outputs": [
    {
     "data": {
      "text/plain": [
       "9.578063715102411"
      ]
     },
     "execution_count": 26,
     "metadata": {},
     "output_type": "execute_result"
    }
   ],
   "source": [
    "lasso_reg = Lasso(alpha=0.1)\n",
    "lasso_reg.fit(X_train,y_train)\n",
    "\n",
    "y_pred = lasso_reg.predict(X_val)\n",
    "\n",
    "mean_squared_error(y_val, y_pred, squared=False)"
   ]
  },
  {
   "cell_type": "code",
   "execution_count": 29,
   "id": "10ab2b72",
   "metadata": {},
   "outputs": [
    {
     "data": {
      "text/plain": [
       "9.352505734296612"
      ]
     },
     "execution_count": 29,
     "metadata": {},
     "output_type": "execute_result"
    }
   ],
   "source": [
    "ridge = Ridge(alpha=1000)\n",
    "ridge.fit(X_train,y_train)\n",
    "\n",
    "y_pred = ridge.predict(X_val)\n",
    "\n",
    "mean_squared_error(y_val, y_pred, squared=False)"
   ]
  },
  {
   "cell_type": "code",
   "execution_count": 36,
   "id": "2ec3a66c",
   "metadata": {},
   "outputs": [],
   "source": [
    "with open('../models/lin_reg.bin','wb') as f_out:\n",
    "    pickle.dump((dv,lr),f_out)"
   ]
  },
  {
   "cell_type": "code",
   "execution_count": null,
   "id": "a7aa4345",
   "metadata": {},
   "outputs": [],
   "source": []
  }
 ],
 "metadata": {
  "kernelspec": {
   "display_name": "Python 3 (ipykernel)",
   "language": "python",
   "name": "python3"
  },
  "language_info": {
   "codemirror_mode": {
    "name": "ipython",
    "version": 3
   },
   "file_extension": ".py",
   "mimetype": "text/x-python",
   "name": "python",
   "nbconvert_exporter": "python",
   "pygments_lexer": "ipython3",
   "version": "3.9.13"
  }
 },
 "nbformat": 4,
 "nbformat_minor": 5
}
